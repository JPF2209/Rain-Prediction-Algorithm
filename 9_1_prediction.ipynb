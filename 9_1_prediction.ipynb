{
 "cells": [
  {
   "cell_type": "code",
   "execution_count": 18,
   "id": "67e8fe04-ca7c-44dd-9416-5f99394536ab",
   "metadata": {},
   "outputs": [],
   "source": [
    "from datetime import datetime\n",
    "import pandas as pd\n",
    "import numpy as np\n",
    "import matplotlib.pyplot as plt\n",
    "import seaborn as sns\n",
    "from sklearn import model_selection\n",
    "from sklearn.linear_model import LogisticRegression\n",
    "from sklearn.model_selection import train_test_split"
   ]
  },
  {
   "cell_type": "code",
   "execution_count": 19,
   "id": "b773c7b9-b9b0-4a1a-8e3a-6c700f66a547",
   "metadata": {},
   "outputs": [
    {
     "name": "stdout",
     "output_type": "stream",
     "text": [
      "Index(['Unnamed: 0', 'humidity', 'rain', 'temperature', 'timestamp', 'hour',\n",
      "       't_Delta', 'h_Delta', 'r_Delta'],\n",
      "      dtype='object')\n",
      "      humidity  rain  temperature  timestamp  hour  t_Delta  h_Delta  r_Delta\n",
      "0         50.4   163         15.8      9.311     9      0.2     -2.1      9.0\n",
      "1         52.0   100         19.4      9.060     9     -0.3     -1.5      0.0\n",
      "2         52.1   153         13.2      9.368     9      0.0     -1.3      1.0\n",
      "3         38.8   125         15.2      9.371     9      0.2      0.8      0.0\n",
      "4         55.6   154         14.8      9.052     9      0.4     -2.3     21.0\n",
      "...        ...   ...          ...        ...   ...      ...      ...      ...\n",
      "1097      52.4   100         18.5     18.356    18     -0.1     -0.9     -1.0\n",
      "1098      52.8    97         12.7     18.381    18     -0.1      0.7      5.0\n",
      "1099      57.6   126         11.9     18.394    18     -0.1     -0.9     -1.0\n",
      "1100      53.6   149         18.2     18.423    18     -0.2      0.9     23.0\n",
      "1101      44.1   126         10.1     18.079    18      0.0     -0.1      2.0\n",
      "\n",
      "[1102 rows x 8 columns]\n"
     ]
    }
   ],
   "source": [
    "df = pd.read_csv('9_test_1.csv')\n",
    "print(df.columns)\n",
    "df = df.drop(columns = {'Unnamed: 0'})\n",
    "print(df)"
   ]
  },
  {
   "cell_type": "code",
   "execution_count": 20,
   "id": "912d2854-0033-460d-818f-dc840635cf63",
   "metadata": {},
   "outputs": [],
   "source": [
    "import numpy as np\n",
    "import pandas as pd\n",
    "from sklearn import preprocessing, svm\n",
    "\n",
    "from sklearn.model_selection import train_test_split\n",
    "\n",
    "from sklearn.linear_model import LinearRegression\n",
    "\n",
    "def calculate_temp(dataframe, temperature, humidity, rain, hour, delta_type):\n",
    "    x = np.array(dataframe[['humidity', 'temperature', 'rain']])\n",
    "    y = np.array(dataframe[[delta_type]])\n",
    " \n",
    "    model = LinearRegression().fit(x,y)\n",
    "\n",
    "    r_sq = model.score(x, y)\n",
    "\n",
    "    arr = np.array([[humidity, rain, temperature]], dtype=object)\n",
    "\n",
    "    delta = model.predict(arr)\n",
    "    delta = delta[0][0]   \n",
    "    \n",
    "\n",
    "    if delta_type == \"t_Delta\":\n",
    "        temperature = temperature + delta\n",
    "        return temperature\n",
    "    elif delta_type == \"h_Delta\":\n",
    "        humidity = humidity + delta\n",
    "        return humidity\n",
    "    else:\n",
    "        rain = rain + delta\n",
    "        return rain"
   ]
  },
  {
   "cell_type": "code",
   "execution_count": 21,
   "id": "5d543883-00af-4ae0-8aa7-f2f04aff7fcc",
   "metadata": {},
   "outputs": [
    {
     "name": "stdout",
     "output_type": "stream",
     "text": [
      "[12, 14.971537277698634, 13.938725137112796, 7.16646170818265, 12.555215065705074, 10.970027192678835, 11.028956418679732, 7.217324101631203, 10.491324756690384, 13.522961269721447]\n",
      "[120, 128.69465383950302, 93.90791600549647, 93.31789530932414, 140.10930555088737, 136.40768205291482, 120.05295795578954, 123.87041762023655, 121.7801781553931, 141.56614288949214]\n",
      "[80, 57.606064804083715, 63.51821104366503, 75.05152647913802, 78.208374893105, 80.72033095904295, 81.66579601856402, 95.74014486623228, 87.18408926394687, 57.87726287230035]\n"
     ]
    }
   ],
   "source": [
    "h = 80\n",
    "t_p = 12\n",
    "t_s = 9.22\n",
    "r = 120\n",
    "hour = 9\n",
    "temp = []\n",
    "humid = []\n",
    "rain = []\n",
    "hours = []\n",
    "for i in range(10):\n",
    "    t_df = df.loc[df['hour'] == hour] \n",
    "    if int(t_s) != hour:\n",
    "        temperature = calculate_temp(t_df, t_p, h, r, hour, \"t_Delta\")\n",
    "        humidity = calculate_temp(t_df, t_p, h, r, hour, \"h_Delta\")\n",
    "        rain_s = calculate_temp(t_df, t_p, h, r, hour, \"r_Delta\")\n",
    "    else:\n",
    "        temperature = t_p\n",
    "        humidity = h\n",
    "        rain_s = r\n",
    "\n",
    "    temp.append(temperature)\n",
    "    humid.append(humidity)\n",
    "    rain.append(rain_s)\n",
    "    hour += 1\n",
    "\n",
    "print(temp)\n",
    "print(rain)\n",
    "print(humid)"
   ]
  },
  {
   "cell_type": "code",
   "execution_count": null,
   "id": "266e8d19-bf4c-4c51-93c8-b9530b8f8b77",
   "metadata": {},
   "outputs": [],
   "source": []
  }
 ],
 "metadata": {
  "kernelspec": {
   "display_name": "Python 3 (ipykernel)",
   "language": "python",
   "name": "python3"
  },
  "language_info": {
   "codemirror_mode": {
    "name": "ipython",
    "version": 3
   },
   "file_extension": ".py",
   "mimetype": "text/x-python",
   "name": "python",
   "nbconvert_exporter": "python",
   "pygments_lexer": "ipython3",
   "version": "3.12.4"
  }
 },
 "nbformat": 4,
 "nbformat_minor": 5
}
