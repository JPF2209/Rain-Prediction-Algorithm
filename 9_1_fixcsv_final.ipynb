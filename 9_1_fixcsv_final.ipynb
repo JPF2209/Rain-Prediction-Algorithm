{
 "cells": [
  {
   "cell_type": "code",
   "execution_count": 1,
   "id": "ad7a87c3-d4d3-4dd1-a37d-c0d2618b685a",
   "metadata": {},
   "outputs": [],
   "source": [
    "from datetime import datetime\n",
    "import pandas as pd"
   ]
  },
  {
   "cell_type": "code",
   "execution_count": 2,
   "id": "a5ce0449-8f41-4328-bf38-8fb1e721e333",
   "metadata": {},
   "outputs": [
    {
     "name": "stdout",
     "output_type": "stream",
     "text": [
      "                         |  |__humidity  |__rain  |__temperature  \\\n",
      "0     -O5KvYvBp2E9cV_8T6bN         61.5      125            13.8   \n",
      "1     -O5KwjV6PQJL34nelxU1         58.2      173            14.0   \n",
      "2     -O5Kxvb1KiFU1iEZWBdU         58.6      172            14.1   \n",
      "3     -O5Kz6OWm9kUiTM7EQIn         58.3      161            14.0   \n",
      "4     -O5L-I74RXKmhbch7mVf         57.2      157            14.2   \n",
      "...                    ...          ...      ...             ...   \n",
      "2074  -O6ei4zVUxBsZkitycPR         70.7      222            10.9   \n",
      "2075  -O6emuesyRq8ADAEvn08         71.9      217            10.6   \n",
      "2076  -O6eo5HuN1IoIU-3fLd6         70.6      221            10.4   \n",
      "2077  -O6hrRMJD3ZRJz4Bld4X         70.7      219            13.9   \n",
      "2078  -O6hsaB6yc6J_MNZF3xh         70.5      218            14.0   \n",
      "\n",
      "       |__timestamp  \n",
      "0     1724797304525  \n",
      "1     1724797614088  \n",
      "2     1724797925827  \n",
      "3     1724798236258  \n",
      "4     1724798546438  \n",
      "...             ...  \n",
      "2074  1726219837409  \n",
      "2075  1726221101753  \n",
      "2076  1726221411515  \n",
      "2077  1726272619989  \n",
      "2078  1726272922376  \n",
      "\n",
      "[2079 rows x 5 columns]\n"
     ]
    }
   ],
   "source": [
    "df = pd.read_csv('final_collected_data_unfiltered.csv')\n",
    "print(df)"
   ]
  },
  {
   "cell_type": "code",
   "execution_count": 3,
   "id": "04c5b6c7-d402-464d-b35b-f8b65e4eac43",
   "metadata": {},
   "outputs": [
    {
     "name": "stdout",
     "output_type": "stream",
     "text": [
      "      humidity  rain  temperature      timestamp\n",
      "0         61.5   125         13.8  1724797304525\n",
      "1         58.2   173         14.0  1724797614088\n",
      "2         58.6   172         14.1  1724797925827\n",
      "3         58.3   161         14.0  1724798236258\n",
      "4         57.2   157         14.2  1724798546438\n",
      "...        ...   ...          ...            ...\n",
      "2074      70.7   222         10.9  1726219837409\n",
      "2075      71.9   217         10.6  1726221101753\n",
      "2076      70.6   221         10.4  1726221411515\n",
      "2077      70.7   219         13.9  1726272619989\n",
      "2078      70.5   218         14.0  1726272922376\n",
      "\n",
      "[2079 rows x 4 columns]\n"
     ]
    }
   ],
   "source": [
    "df.rename(columns={'|__humidity': 'humidity', '|__rain': 'rain', '|__temperature' : 'temperature', '|__timestamp': 'timestamp'}, inplace=True)\n",
    "df = df.drop(columns = {'|'})\n",
    "print(df)"
   ]
  },
  {
   "cell_type": "code",
   "execution_count": 4,
   "id": "109c2652-d2bc-4c5e-9300-f9fd16dcc044",
   "metadata": {},
   "outputs": [
    {
     "name": "stdout",
     "output_type": "stream",
     "text": [
      "      humidity  rain  temperature                   timestamp  \\\n",
      "0         61.5   125         13.8  2024-08-28 08:21:44.525000   \n",
      "1         58.2   173         14.0  2024-08-28 08:26:54.088000   \n",
      "2         58.6   172         14.1  2024-08-28 08:32:05.827000   \n",
      "3         58.3   161         14.0  2024-08-28 08:37:16.258000   \n",
      "4         57.2   157         14.2  2024-08-28 08:42:26.438000   \n",
      "...        ...   ...          ...                         ...   \n",
      "2074      70.7   222         10.9  2024-09-13 19:30:37.409000   \n",
      "2075      71.9   217         10.6  2024-09-13 19:51:41.753000   \n",
      "2076      70.6   221         10.4  2024-09-13 19:56:51.515000   \n",
      "2077      70.7   219         13.9  2024-09-14 10:10:19.989000   \n",
      "2078      70.5   218         14.0  2024-09-14 10:15:22.376000   \n",
      "\n",
      "                            hour  \n",
      "0     2024-08-28 08:21:44.525000  \n",
      "1     2024-08-28 08:26:54.088000  \n",
      "2     2024-08-28 08:32:05.827000  \n",
      "3     2024-08-28 08:37:16.258000  \n",
      "4     2024-08-28 08:42:26.438000  \n",
      "...                          ...  \n",
      "2074  2024-09-13 19:30:37.409000  \n",
      "2075  2024-09-13 19:51:41.753000  \n",
      "2076  2024-09-13 19:56:51.515000  \n",
      "2077  2024-09-14 10:10:19.989000  \n",
      "2078  2024-09-14 10:15:22.376000  \n",
      "\n",
      "[2079 rows x 5 columns]\n"
     ]
    },
    {
     "name": "stderr",
     "output_type": "stream",
     "text": [
      "C:\\Users\\joshp\\AppData\\Local\\Temp\\ipykernel_18708\\3430916567.py:6: FutureWarning: ChainedAssignmentError: behaviour will change in pandas 3.0!\n",
      "You are setting values through chained assignment. Currently this works in certain cases, but when using Copy-on-Write (which will become the default behaviour in pandas 3.0) this will never work to update the original DataFrame or Series, because the intermediate object on which we are setting values will behave as a copy.\n",
      "A typical example is when you are setting values in a column of a DataFrame, like:\n",
      "\n",
      "df[\"col\"][row_indexer] = value\n",
      "\n",
      "Use `df.loc[row_indexer, \"col\"] = values` instead, to perform the assignment in a single step and ensure this keeps updating the original `df`.\n",
      "\n",
      "See the caveats in the documentation: https://pandas.pydata.org/pandas-docs/stable/user_guide/indexing.html#returning-a-view-versus-a-copy\n",
      "\n",
      "  df['hour'][j] = d_time\n",
      "C:\\Users\\joshp\\AppData\\Local\\Temp\\ipykernel_18708\\3430916567.py:6: SettingWithCopyWarning: \n",
      "A value is trying to be set on a copy of a slice from a DataFrame\n",
      "\n",
      "See the caveats in the documentation: https://pandas.pydata.org/pandas-docs/stable/user_guide/indexing.html#returning-a-view-versus-a-copy\n",
      "  df['hour'][j] = d_time\n",
      "C:\\Users\\joshp\\AppData\\Local\\Temp\\ipykernel_18708\\3430916567.py:6: FutureWarning: Setting an item of incompatible dtype is deprecated and will raise an error in a future version of pandas. Value '2024-08-28 08:21:44.525000' has dtype incompatible with int64, please explicitly cast to a compatible dtype first.\n",
      "  df['hour'][j] = d_time\n"
     ]
    }
   ],
   "source": [
    "df['hour']  = df['timestamp']\n",
    "j = 0\n",
    "for i in df['timestamp']:\n",
    "    val = i / 1000\n",
    "    d_time = datetime.fromtimestamp(val)\n",
    "    df['hour'][j] = d_time\n",
    "    j += 1\n",
    "\n",
    "df['timestamp'] = df['hour']\n",
    "print(df)"
   ]
  },
  {
   "cell_type": "code",
   "execution_count": 5,
   "id": "3464f285-48ef-4cab-975f-a8343e7ab9dc",
   "metadata": {},
   "outputs": [
    {
     "name": "stdout",
     "output_type": "stream",
     "text": [
      "      humidity  rain  temperature                   timestamp hour\n",
      "0         61.5   125         13.8  2024-08-28 08:21:44.525000    8\n",
      "1         58.2   173         14.0  2024-08-28 08:26:54.088000    8\n",
      "2         58.6   172         14.1  2024-08-28 08:32:05.827000    9\n",
      "3         58.3   161         14.0  2024-08-28 08:37:16.258000    9\n",
      "4         57.2   157         14.2  2024-08-28 08:42:26.438000    9\n",
      "...        ...   ...          ...                         ...  ...\n",
      "2074      70.7   222         10.9  2024-09-13 19:30:37.409000   20\n",
      "2075      71.9   217         10.6  2024-09-13 19:51:41.753000   20\n",
      "2076      70.6   221         10.4  2024-09-13 19:56:51.515000   20\n",
      "2077      70.7   219         13.9  2024-09-14 10:10:19.989000   10\n",
      "2078      70.5   218         14.0  2024-09-14 10:15:22.376000   10\n",
      "\n",
      "[2079 rows x 5 columns]\n"
     ]
    }
   ],
   "source": [
    "j = 0\n",
    "for i in df['timestamp']:\n",
    "    val = i.hour + (i.minute/60)\n",
    "    val = int(round(val))\n",
    "    df.loc[j, 'hour'] = val\n",
    "    j += 1\n",
    "print(df)"
   ]
  },
  {
   "cell_type": "code",
   "execution_count": 6,
   "id": "a097679b-39a5-4c34-8c0d-f3b2d220bf75",
   "metadata": {},
   "outputs": [],
   "source": [
    "df.to_csv('halfway.csv')"
   ]
  },
  {
   "cell_type": "code",
   "execution_count": 7,
   "id": "880ded10-6442-415d-ab27-35dab6a2e2b2",
   "metadata": {},
   "outputs": [],
   "source": [
    "df = pd.read_csv('halfway.csv')\n",
    "new_df = df"
   ]
  },
  {
   "cell_type": "code",
   "execution_count": 26,
   "id": "759a303c-5d70-466d-acda-2de500ec4d0d",
   "metadata": {},
   "outputs": [
    {
     "name": "stdout",
     "output_type": "stream",
     "text": [
      "      Unnamed: 0  humidity  rain  temperature                   timestamp  \\\n",
      "0              0      61.5   125         13.8  2024-08-28 08:21:44.525000   \n",
      "1              1      58.2   173         14.0  2024-08-28 08:26:54.088000   \n",
      "2              2      58.6   172         14.1  2024-08-28 08:32:05.827000   \n",
      "3              3      58.3   161         14.0  2024-08-28 08:37:16.258000   \n",
      "4              4      57.2   157         14.2  2024-08-28 08:42:26.438000   \n",
      "...          ...       ...   ...          ...                         ...   \n",
      "1324        1324      44.8   102         17.2  2024-09-09 14:23:25.255000   \n",
      "1325        1325      44.8   102         17.1  2024-09-09 14:28:36.795000   \n",
      "1326        1326      45.8   101         17.4  2024-09-09 14:33:46.342000   \n",
      "1327        1327      46.5   101         17.0  2024-09-09 14:38:56.123000   \n",
      "1328        1328      46.9   101         16.8  2024-09-09 14:49:18.601000   \n",
      "\n",
      "      hour  \n",
      "0        8  \n",
      "1        8  \n",
      "2        9  \n",
      "3        9  \n",
      "4        9  \n",
      "...    ...  \n",
      "1324    14  \n",
      "1325    14  \n",
      "1326    15  \n",
      "1327    15  \n",
      "1328    15  \n",
      "\n",
      "[1329 rows x 6 columns]\n",
      "      humidity  rain  temperature            timestamp  hour  \\\n",
      "0         61.5   125         13.8  2024-08-28 08:21:44     8   \n",
      "1         58.2   173         14.0  2024-08-28 08:26:54     8   \n",
      "2         58.6   172         14.1  2024-08-28 08:32:05     9   \n",
      "3         58.3   161         14.0  2024-08-28 08:37:16     9   \n",
      "4         57.2   157         14.2  2024-08-28 08:42:26     9   \n",
      "...        ...   ...          ...                  ...   ...   \n",
      "1324      44.8   102         17.2  2024-09-09 14:23:25    14   \n",
      "1325      44.8   102         17.1  2024-09-09 14:28:36    14   \n",
      "1326      45.8   101         17.4  2024-09-09 14:33:46    15   \n",
      "1327      46.5   101         17.0  2024-09-09 14:38:56    15   \n",
      "1328      46.9   101         16.8  2024-09-09 14:49:18    15   \n",
      "\n",
      "                               t  \n",
      "0     2024-08-28 08:21:44.525000  \n",
      "1     2024-08-28 08:26:54.088000  \n",
      "2     2024-08-28 08:32:05.827000  \n",
      "3     2024-08-28 08:37:16.258000  \n",
      "4     2024-08-28 08:42:26.438000  \n",
      "...                          ...  \n",
      "1324  2024-09-09 14:23:25.255000  \n",
      "1325  2024-09-09 14:28:36.795000  \n",
      "1326  2024-09-09 14:33:46.342000  \n",
      "1327  2024-09-09 14:38:56.123000  \n",
      "1328  2024-09-09 14:49:18.601000  \n",
      "\n",
      "[1329 rows x 6 columns]\n",
      "      humidity  rain  temperature            timestamp  hour       t\n",
      "0         61.5   125         13.8  2024-08-28 08:21:44     8   8.362\n",
      "1         58.2   173         14.0  2024-08-28 08:26:54     8   8.448\n",
      "2         58.6   172         14.1  2024-08-28 08:32:05     9   8.535\n",
      "3         58.3   161         14.0  2024-08-28 08:37:16     9   8.621\n",
      "4         57.2   157         14.2  2024-08-28 08:42:26     9   8.707\n",
      "...        ...   ...          ...                  ...   ...     ...\n",
      "1324      44.8   102         17.2  2024-09-09 14:23:25    14  14.390\n",
      "1325      44.8   102         17.1  2024-09-09 14:28:36    14  14.477\n",
      "1326      45.8   101         17.4  2024-09-09 14:33:46    15  14.563\n",
      "1327      46.5   101         17.0  2024-09-09 14:38:56    15  14.649\n",
      "1328      46.9   101         16.8  2024-09-09 14:49:18    15  14.822\n",
      "\n",
      "[1329 rows x 6 columns]\n"
     ]
    }
   ],
   "source": [
    "print(new_df)\n",
    "new_df = new_df.drop(columns = {'Unnamed: 0'})\n",
    "new_df['t'] = new_df['timestamp']\n",
    "j = 0\n",
    "for i in new_df['t']:\n",
    "    n = 0\n",
    "    i_mod = str(i)\n",
    "    if len(i_mod) >= 19:\n",
    "        n = len(i_mod) - 19\n",
    "    if n > 0:\n",
    "        i_mod = i_mod[:-n]\n",
    "    date_format = '%Y-%m-%d %H:%M:%S'\n",
    "    val = datetime.strptime(i_mod, date_format)\n",
    "    new_df.loc[j, 'timestamp'] = val\n",
    "    j += 1\n",
    "\n",
    "\n",
    "print(new_df)\n",
    "j = 0\n",
    "for i in new_df['timestamp']:\n",
    "    min = i.minute + (i.second / 60)\n",
    "    hour = i.hour + (min / 60)\n",
    "    h = \"%.3f\" % hour\n",
    "    new_df.loc[j, 't'] = h\n",
    "    j += 1\n",
    "\n",
    "print(new_df)"
   ]
  },
  {
   "cell_type": "code",
   "execution_count": 27,
   "id": "4cd9c669-1923-4563-9cff-39177d661806",
   "metadata": {},
   "outputs": [
    {
     "name": "stdout",
     "output_type": "stream",
     "text": [
      "      humidity  rain  temperature timestamp  hour\n",
      "0         61.5   125         13.8     8.362     8\n",
      "1         58.2   173         14.0     8.448     8\n",
      "2         58.6   172         14.1     8.535     9\n",
      "3         58.3   161         14.0     8.621     9\n",
      "4         57.2   157         14.2     8.707     9\n",
      "...        ...   ...          ...       ...   ...\n",
      "1324      44.8   102         17.2    14.390    14\n",
      "1325      44.8   102         17.1    14.477    14\n",
      "1326      45.8   101         17.4    14.563    15\n",
      "1327      46.5   101         17.0    14.649    15\n",
      "1328      46.9   101         16.8    14.822    15\n",
      "\n",
      "[1329 rows x 5 columns]\n",
      "      humidity  rain  temperature timestamp  hour\n",
      "2         58.6   172         14.1     8.535     9\n",
      "3         58.3   161         14.0     8.621     9\n",
      "4         57.2   157         14.2     8.707     9\n",
      "5         56.0   149         14.3     8.794     9\n",
      "6         57.0   173         14.3     8.880     9\n",
      "...        ...   ...          ...       ...   ...\n",
      "1324      44.8   102         17.2    14.390    14\n",
      "1325      44.8   102         17.1    14.477    14\n",
      "1326      45.8   101         17.4    14.563    15\n",
      "1327      46.5   101         17.0    14.649    15\n",
      "1328      46.9   101         16.8    14.822    15\n",
      "\n",
      "[1103 rows x 5 columns]\n"
     ]
    }
   ],
   "source": [
    "new_df['timestamp'] = new_df['t']\n",
    "new_df = new_df.drop(columns = {'t'})\n",
    "print(new_df)\n",
    "\n",
    "o = new_df[new_df['hour'] > 8]\n",
    "new_df = o[o['hour'] < 19]\n",
    "print(new_df)"
   ]
  },
  {
   "cell_type": "code",
   "execution_count": 28,
   "id": "aa95fec1-e633-41c7-a933-06b117738325",
   "metadata": {},
   "outputs": [
    {
     "name": "stdout",
     "output_type": "stream",
     "text": [
      "      humidity  rain  temperature timestamp  hour  t_Target  h_Target  \\\n",
      "2         58.6   172         14.1     8.535     9      14.0      58.3   \n",
      "3         58.3   161         14.0     8.621     9      14.2      57.2   \n",
      "4         57.2   157         14.2     8.707     9      14.3      56.0   \n",
      "5         56.0   149         14.3     8.794     9      14.3      57.0   \n",
      "6         57.0   173         14.3     8.880     9      14.6      53.8   \n",
      "...        ...   ...          ...       ...   ...       ...       ...   \n",
      "1323      46.0   100         17.2    14.301    14      17.2      44.8   \n",
      "1324      44.8   102         17.2    14.390    14      17.1      44.8   \n",
      "1325      44.8   102         17.1    14.477    14      17.4      45.8   \n",
      "1326      45.8   101         17.4    14.563    15      17.0      46.5   \n",
      "1327      46.5   101         17.0    14.649    15      16.8      46.9   \n",
      "\n",
      "      r_Target  \n",
      "2        161.0  \n",
      "3        157.0  \n",
      "4        149.0  \n",
      "5        173.0  \n",
      "6        165.0  \n",
      "...        ...  \n",
      "1323     102.0  \n",
      "1324     102.0  \n",
      "1325     101.0  \n",
      "1326     101.0  \n",
      "1327     101.0  \n",
      "\n",
      "[1102 rows x 8 columns]\n"
     ]
    },
    {
     "name": "stderr",
     "output_type": "stream",
     "text": [
      "C:\\Users\\joshp\\AppData\\Local\\Temp\\ipykernel_9464\\2101529429.py:1: SettingWithCopyWarning: \n",
      "A value is trying to be set on a copy of a slice from a DataFrame.\n",
      "Try using .loc[row_indexer,col_indexer] = value instead\n",
      "\n",
      "See the caveats in the documentation: https://pandas.pydata.org/pandas-docs/stable/user_guide/indexing.html#returning-a-view-versus-a-copy\n",
      "  new_df['t_Target'] = new_df.shift(-1)['temperature']\n",
      "C:\\Users\\joshp\\AppData\\Local\\Temp\\ipykernel_9464\\2101529429.py:2: SettingWithCopyWarning: \n",
      "A value is trying to be set on a copy of a slice from a DataFrame.\n",
      "Try using .loc[row_indexer,col_indexer] = value instead\n",
      "\n",
      "See the caveats in the documentation: https://pandas.pydata.org/pandas-docs/stable/user_guide/indexing.html#returning-a-view-versus-a-copy\n",
      "  new_df['h_Target'] = new_df.shift(-1)['humidity']\n",
      "C:\\Users\\joshp\\AppData\\Local\\Temp\\ipykernel_9464\\2101529429.py:3: SettingWithCopyWarning: \n",
      "A value is trying to be set on a copy of a slice from a DataFrame.\n",
      "Try using .loc[row_indexer,col_indexer] = value instead\n",
      "\n",
      "See the caveats in the documentation: https://pandas.pydata.org/pandas-docs/stable/user_guide/indexing.html#returning-a-view-versus-a-copy\n",
      "  new_df['r_Target'] = new_df.shift(-1)['rain']\n"
     ]
    }
   ],
   "source": [
    "new_df['t_Target'] = new_df.shift(-1)['temperature']\n",
    "new_df['h_Target'] = new_df.shift(-1)['humidity']\n",
    "new_df['r_Target'] = new_df.shift(-1)['rain']\n",
    "new_df = new_df.iloc[:-1 , :]\n",
    "print(new_df)"
   ]
  },
  {
   "cell_type": "code",
   "execution_count": 29,
   "id": "cca9680f-304a-45db-b416-a8991b9a531f",
   "metadata": {},
   "outputs": [
    {
     "name": "stdout",
     "output_type": "stream",
     "text": [
      "      humidity  rain  temperature timestamp  hour  t_Target  h_Target  \\\n",
      "19        45.5   175         17.0    10.000    10      17.4      43.8   \n",
      "1176      50.1   101         19.7    10.008    10      19.8      50.1   \n",
      "587       60.5   130          8.2    10.031    10       8.3      62.0   \n",
      "841       57.9   125         14.7    10.042    10      14.8      56.4   \n",
      "375       52.3   167         13.4    10.058    10      13.5      51.1   \n",
      "...        ...   ...          ...       ...   ...       ...       ...   \n",
      "130       58.5   165         11.8     9.984    10      11.8      57.9   \n",
      "716       65.0   127          7.7     9.987    10       7.9      65.4   \n",
      "240       56.1   163         16.0     9.987    10      16.3      55.2   \n",
      "1286      57.2   104         12.6     9.990    10      12.9      57.8   \n",
      "900       53.4    99         17.7     9.999    10      17.6      52.2   \n",
      "\n",
      "      r_Target  t_Delta  h_Delta  r_Delta  \n",
      "19       150.0      0.4     -1.7    -25.0  \n",
      "1176      99.0      0.1      0.0     -2.0  \n",
      "587      128.0      0.1      1.5     -2.0  \n",
      "841      125.0      0.1     -1.5      0.0  \n",
      "375      156.0      0.1     -1.2    -11.0  \n",
      "...        ...      ...      ...      ...  \n",
      "130      170.0      0.0     -0.6      5.0  \n",
      "716      129.0      0.2      0.4      2.0  \n",
      "240      174.0      0.3     -0.9     11.0  \n",
      "1286     103.0      0.3      0.6     -1.0  \n",
      "900      100.0     -0.1     -1.2      1.0  \n",
      "\n",
      "[1102 rows x 11 columns]\n"
     ]
    }
   ],
   "source": [
    "new_df[\"t_Delta\"] = new_df[\"t_Target\"] - new_df['temperature']\n",
    "new_df[\"h_Delta\"] = new_df[\"h_Target\"] - new_df['humidity']\n",
    "new_df[\"r_Delta\"] = new_df[\"r_Target\"] - new_df['rain']\n",
    "new_df = new_df.sort_values(['timestamp'], ascending = True)\n",
    "print(new_df)"
   ]
  },
  {
   "cell_type": "code",
   "execution_count": 30,
   "id": "f902b750-3ac4-4620-b3dd-ef763088cad2",
   "metadata": {},
   "outputs": [
    {
     "name": "stdout",
     "output_type": "stream",
     "text": [
      "      humidity  rain  temperature timestamp  hour  t_Delta  h_Delta  r_Delta\n",
      "19        45.5   175         17.0    10.000    10      0.4     -1.7    -25.0\n",
      "1176      50.1   101         19.7    10.008    10      0.1      0.0     -2.0\n",
      "587       60.5   130          8.2    10.031    10      0.1      1.5     -2.0\n",
      "841       57.9   125         14.7    10.042    10      0.1     -1.5      0.0\n",
      "375       52.3   167         13.4    10.058    10      0.1     -1.2    -11.0\n",
      "...        ...   ...          ...       ...   ...      ...      ...      ...\n",
      "130       58.5   165         11.8     9.984    10      0.0     -0.6      5.0\n",
      "716       65.0   127          7.7     9.987    10      0.2      0.4      2.0\n",
      "240       56.1   163         16.0     9.987    10      0.3     -0.9     11.0\n",
      "1286      57.2   104         12.6     9.990    10      0.3      0.6     -1.0\n",
      "900       53.4    99         17.7     9.999    10     -0.1     -1.2      1.0\n",
      "\n",
      "[1102 rows x 8 columns]\n"
     ]
    }
   ],
   "source": [
    "new_df = new_df.drop([\"r_Target\"], axis = 1)\n",
    "new_df = new_df.drop([\"h_Target\"], axis = 1)\n",
    "new_df = new_df.drop([\"t_Target\"], axis = 1)\n",
    "print(new_df)"
   ]
  },
  {
   "cell_type": "code",
   "execution_count": 36,
   "id": "eab0e918-c774-44dc-bebe-0592513b6bef",
   "metadata": {},
   "outputs": [],
   "source": [
    "new_df.to_csv('9_test_1.csv')"
   ]
  },
  {
   "cell_type": "code",
   "execution_count": null,
   "id": "58876f80-3de5-43ae-905a-2cf39482482f",
   "metadata": {},
   "outputs": [],
   "source": []
  }
 ],
 "metadata": {
  "kernelspec": {
   "display_name": "Python 3 (ipykernel)",
   "language": "python",
   "name": "python3"
  },
  "language_info": {
   "codemirror_mode": {
    "name": "ipython",
    "version": 3
   },
   "file_extension": ".py",
   "mimetype": "text/x-python",
   "name": "python",
   "nbconvert_exporter": "python",
   "pygments_lexer": "ipython3",
   "version": "3.12.4"
  }
 },
 "nbformat": 4,
 "nbformat_minor": 5
}
